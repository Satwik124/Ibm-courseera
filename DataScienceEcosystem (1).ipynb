{
 "cells": [
  {
   "cell_type": "markdown",
   "id": "a7dd0eed",
   "metadata": {},
   "source": [
    "# Data Science Tools and Ecosystem\n",
    "\n"
   ]
  },
  {
   "cell_type": "markdown",
   "id": "848ab453",
   "metadata": {},
   "source": [
    "In this notebook, Data Science Tools and Ecosystem are summarized."
   ]
  },
  {
   "cell_type": "markdown",
   "id": "83096c74",
   "metadata": {},
   "source": [
    "Some of the popular languages that Data Scientists use are:\n",
    "1. Python\n",
    "2. R\n",
    "3. SQL\n"
   ]
  },
  {
   "cell_type": "markdown",
   "id": "b04fabf2",
   "metadata": {},
   "source": [
    "Some of the commonly used libraries used by Data Scientists include:\n",
    "    1. Numpy\n",
    "    2. pandas\n",
    "    3. Matplotlib\n",
    "    4. Tensor Flow\n",
    "    5. Apache spark "
   ]
  },
  {
   "cell_type": "code",
   "execution_count": null,
   "id": "6730e003",
   "metadata": {},
   "outputs": [],
   "source": [
    "| Data Science Tools|\n",
    "|-------------------|\n",
    "| Jupyter Notebook   |\n",
    "| RStudio            |\n",
    "| Spyder            |"
   ]
  },
  {
   "cell_type": "markdown",
   "id": "242aa0e4",
   "metadata": {},
   "source": [
    "### Below are a few examples of evaluating arithmetic expressions in Python\n"
   ]
  },
  {
   "cell_type": "code",
   "execution_count": 4,
   "id": "0009e785",
   "metadata": {},
   "outputs": [
    {
     "data": {
      "text/plain": [
       "17"
      ]
     },
     "execution_count": 4,
     "metadata": {},
     "output_type": "execute_result"
    }
   ],
   "source": [
    "#This a simple arithmetic expression to mutiply then add integers\n",
    "(3*4)+5\n"
   ]
  },
  {
   "cell_type": "code",
   "execution_count": 5,
   "id": "37f1c64e",
   "metadata": {},
   "outputs": [
    {
     "data": {
      "text/plain": [
       "3.3333333333333335"
      ]
     },
     "execution_count": 5,
     "metadata": {},
     "output_type": "execute_result"
    }
   ],
   "source": [
    "#This will convert 200 minutes to hours by diving by 6\n",
    "200/60\n"
   ]
  },
  {
   "cell_type": "markdown",
   "id": "00d11a1f",
   "metadata": {},
   "source": [
    " **Objectives:** \n",
    " unordered list\n",
    " - python\n",
    " - R\n",
    " - Sql\n",
    " - Julia \n",
    " - Scala\n",
    "\n"
   ]
  },
  {
   "cell_type": "markdown",
   "id": "9449da64",
   "metadata": {},
   "source": [
    "## Author\n",
    "  Vemula satwik"
   ]
  },
  {
   "cell_type": "markdown",
   "id": "1c590ebe",
   "metadata": {},
   "source": []
  }
 ],
 "metadata": {
  "kernelspec": {
   "display_name": "Python 3 (ipykernel)",
   "language": "python",
   "name": "python3"
  },
  "language_info": {
   "codemirror_mode": {
    "name": "ipython",
    "version": 3
   },
   "file_extension": ".py",
   "mimetype": "text/x-python",
   "name": "python",
   "nbconvert_exporter": "python",
   "pygments_lexer": "ipython3",
   "version": "3.9.12"
  }
 },
 "nbformat": 4,
 "nbformat_minor": 5
}
